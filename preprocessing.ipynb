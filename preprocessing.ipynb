{
 "cells": [
  {
   "cell_type": "code",
   "execution_count": 1,
   "metadata": {},
   "outputs": [],
   "source": [
    "import pandas as pd\n",
    "df=pd.read_csv(\"vgsales.csv\")"
   ]
  },
  {
   "cell_type": "code",
   "execution_count": 2,
   "metadata": {},
   "outputs": [
    {
     "name": "stdout",
     "output_type": "stream",
     "text": [
      "Số giá trị N/A ban đầu: 329\n",
      "Số ô trống mỗi cột: \n",
      "Rank              0\n",
      "Name              0\n",
      "Platform          0\n",
      "Year            271\n",
      "Genre             0\n",
      "Publisher        58\n",
      "NA_Sales          0\n",
      "EU_Sales          0\n",
      "JP_Sales          0\n",
      "Other_Sales       0\n",
      "Global_Sales      0\n",
      "dtype: int64\n"
     ]
    }
   ],
   "source": [
    "print(\"Số giá trị ô trống ban đầu: \" + str(df.isnull().sum().sum()))\n",
    "\n",
    "print(\"Số ô trống mỗi cột: \\n\" + str(df.isna().sum()))"
   ]
  },
  {
   "cell_type": "code",
   "execution_count": 3,
   "metadata": {},
   "outputs": [],
   "source": [
    "df[\"Year\"].fillna(method='ffill',inplace = True)\n",
    "df[\"Publisher\"].fillna(method='ffill',inplace = True)"
   ]
  },
  {
   "cell_type": "code",
   "execution_count": 4,
   "metadata": {},
   "outputs": [
    {
     "name": "stdout",
     "output_type": "stream",
     "text": [
      "Số giá trị sau khi xử lý: 0\n",
      "Số ô trống mỗi cột: \n",
      "Rank            0\n",
      "Name            0\n",
      "Platform        0\n",
      "Year            0\n",
      "Genre           0\n",
      "Publisher       0\n",
      "NA_Sales        0\n",
      "EU_Sales        0\n",
      "JP_Sales        0\n",
      "Other_Sales     0\n",
      "Global_Sales    0\n",
      "dtype: int64\n"
     ]
    }
   ],
   "source": [
    "print(\"Số giá trị sau khi xử lý: \" + str(df.isnull().sum().sum()))\n",
    "print(\"Số ô trống mỗi cột: \\n\" + str(df.isna().sum()))"
   ]
  },
  {
   "cell_type": "code",
   "execution_count": 7,
   "metadata": {},
   "outputs": [
    {
     "name": "stdout",
     "output_type": "stream",
     "text": [
      "Đã lưu vào file final_vgalas.csv\n"
     ]
    }
   ],
   "source": [
    "df.to_csv(\"final_vgsalas.csv\", index=False)\n",
    "print(\"Đã lưu vào file final_vgalas.csv\")"
   ]
  }
 ],
 "metadata": {
  "kernelspec": {
   "display_name": "Python 3.9.12 ('base')",
   "language": "python",
   "name": "python3"
  },
  "language_info": {
   "codemirror_mode": {
    "name": "ipython",
    "version": 3
   },
   "file_extension": ".py",
   "mimetype": "text/x-python",
   "name": "python",
   "nbconvert_exporter": "python",
   "pygments_lexer": "ipython3",
   "version": "3.9.12"
  },
  "orig_nbformat": 4,
  "vscode": {
   "interpreter": {
    "hash": "960f2ae499b536958d588fcafb5f9e40dd995fc898e4b79db932caf22756042a"
   }
  }
 },
 "nbformat": 4,
 "nbformat_minor": 2
}
